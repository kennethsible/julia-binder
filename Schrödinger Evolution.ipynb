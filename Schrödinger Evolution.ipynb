{
 "cells": [
  {
   "cell_type": "markdown",
   "metadata": {},
   "source": [
    "### Crank-Nicolson Scheme for Schrödinger Equation\n",
    "**Problem**: Solve the Schrödinger equation $i(\\partial\\psi/\\partial t)=\\hat{H}\\psi$ $(0\\leq x\\leq L$, $0\\leq t)$ where $m=1/2$ and $\\hbar=1$, using an implicit Crank-Nicolson scheme that preserves the wave function normalization. The inital condition and boundary conditions are given as $u(x,0)=N\\exp{(-a(x-x_0)^2)}\\exp{(-l(x-x_0)i)}$ and $u(0,t)=u(L,t)=0$. The Hamiltonian $\\hat{H}=\\partial^2/\\partial x^2+V(x)$ requires discretization with an average between the explicit and implicit centered finite difference approximations for the second-order spatial derivative. The Crank Nicolson scheme for solving the Schrödinger equation implements this Hamiltonian discretization that preserves wave function normalization. The following derivation comes from Numerical Recipes$^\\textbf{1}$:\n",
    "\n",
    "$$i\\frac{\\partial\\psi}{\\partial t}=\\hat{H}\\psi\\Rightarrow\\psi(x,t)=e^{-i\\hat{H}t}\\psi(x,0)$$\n",
    "The unstable explicit FTCS scheme yields $\\psi^{n+1}_k=(1-i\\hat{H}\\Delta t)\\psi^n_k$ and the stable implicit BTCS scheme yields $\\psi^{n+1}_k=(1+i\\hat{H}\\Delta t)^{-1}\\psi^n_k$, but the implicit scheme does not preserve normalization. The unitary operator for the finite difference representation of $e^{-i\\hat{H}t}$ comes from the linear expansion terms of the equivalent operator $e^{-i\\hat{H}t/2}/e^{i\\hat{H}t/2}$\n",
    "\n",
    "$$e^{-i\\hat{H}t}\\simeq\\frac{1-\\frac{1}{2}i\\hat{H}\\Delta t}{1+\\frac{1}{2}i\\hat{H}\\Delta t}$$\n",
    "$$(1+i\\hat{H}\\Delta t)\\psi^{n+1}_k=(1-i\\hat{H}\\Delta t)\\psi^n_k$$\n",
    "\n",
    "The unitary operator $\\hat{U}$ satisfies $U^\\dagger U=UU^\\dagger=I$ where $U^\\dagger$ denotes the Hermitian conjugate or complex transpose. The operator $\\hat{U}$ preserves normalization and therefore probability amplitudes in quantum mechanics.\n",
    "$$(U|x\\rangle)^\\dagger(U|x\\rangle)=(\\langle x|U^\\dagger)(U|x\\rangle)=\\langle x|(U^\\dagger U)|x\\rangle=\\langle x|I|x\\rangle=\\langle x|x\\rangle$$\n",
    "\n",
    "$^\\textbf{1}$ <small>William H. Press, Saul A. Teukolsky. Numerical Recipes in C : the Art of Scientific Computing. Cambridge University Press, 1992.</small>"
   ]
  },
  {
   "cell_type": "code",
   "execution_count": 5,
   "metadata": {},
   "outputs": [],
   "source": [
    "using LinearAlgebra, PyPlot, PyCall\n",
    "anim = pyimport(\"matplotlib.animation\");"
   ]
  },
  {
   "cell_type": "code",
   "execution_count": 6,
   "metadata": {},
   "outputs": [
    {
     "name": "stdout",
     "output_type": "stream",
     "text": [
      "  4.256022 seconds (49.66 M allocations: 1.786 GiB, 59.19% gc time)\n"
     ]
    }
   ],
   "source": [
    "@time begin\n",
    "    T, L = 240, 400\n",
    "    dt, dx = 0.2, 0.2\n",
    "    Nt, Nx = Int(T/dt + 1), Int(L/dx + 1)\n",
    "    r, a, l = dt/dx^2, 0.002, 0.5\n",
    "\n",
    "    N = (2*a/π)^(1/4) # Normalization\n",
    "    f(x) = N*exp(-a*(x - 50)^2)*exp(-l*(x - 50)im)\n",
    "    x = range(0, stop=L, step=dx)\n",
    "    ψ = zeros(Complex, Nt, Nx)\n",
    "    ψ[1, :] = f.(x); ψ[1, 1] = ψ[1, end] = 0\n",
    "    \n",
    "    V = [(L/2 - 25 < x[k] < L/2 + 25 ? 0.5*2/r : 0.0) for k = 1:Nx]\n",
    "    \n",
    "    A = zeros(Nx, Nx)\n",
    "    dl = du = ComplexF64[-(r/2) for k = 1:(Nx - 1)]\n",
    "    d = [(im + r - (r/2)*V[k]) for k = 1:Nx]\n",
    "    A = Tridiagonal(dl, d, du)\n",
    "\n",
    "    for n = 1:(Nt - 1)\n",
    "        RHS = (r/2)*[ψ[n, 2:end]; 0] + (im - r)*ψ[n, :] + (r/2)*[0; ψ[n, 1:(end - 1)]] + (r/2)*V.*ψ[n, :]\n",
    "        ψ[n + 1, :] = A\\RHS; ψ[n + 1, 1] = ψ[n + 1, end] = 0\n",
    "    end\n",
    "end;"
   ]
  },
  {
   "cell_type": "markdown",
   "metadata": {},
   "source": [
    "#### Wave Function Normalization (Unitary Operator)"
   ]
  },
  {
   "cell_type": "code",
   "execution_count": 7,
   "metadata": {},
   "outputs": [
    {
     "data": {
      "text/plain": [
       "0.9996543005519829"
      ]
     },
     "execution_count": 7,
     "metadata": {},
     "output_type": "execute_result"
    }
   ],
   "source": [
    "# Composite Numerical Integration (Quadrature)\n",
    "function compQNC(f::Vector, a::Real, b::Real, n::Real)\n",
    "    I, m, w = 0, 3, (1/6)*[1, 4, 1]\n",
    "    dx = (b - a)/(n*(m - 1))\n",
    "    x = collect(a:dx:b)\n",
    "    for i = 1:(m - 1):(n*(m - 1))\n",
    "        I += w' * f[i:(m + i - 1)]\n",
    "    end\n",
    "    return I * (m - 1)dx\n",
    "end\n",
    "compQNC(abs.(ψ[end, :]).^2, 0, 400, 1000)"
   ]
  },
  {
   "cell_type": "markdown",
   "metadata": {},
   "source": [
    "#### Schrödinger Time Evolution (Visualization)"
   ]
  },
  {
   "cell_type": "code",
   "execution_count": 8,
   "metadata": {},
   "outputs": [
    {
     "data": {
      "image/png": "[encoded data removed]",
      "text/plain": [
       "Figure(PyObject <Figure size 800x400 with 1 Axes>)"
      ]
     },
     "metadata": {},
     "output_type": "display_data"
    }
   ],
   "source": [
    "figure(figsize=(8, 4))\n",
    "xlim(0, L); ylim(-0.8, 0.8)\n",
    "plot(x, V); plot(x, ψ[1, :]);"
   ]
  }
 ],
 "metadata": {
  "kernelspec": {
   "display_name": "Julia 1.0.0",
   "language": "julia",
   "name": "julia-1.0"
  },
  "language_info": {
   "file_extension": ".jl",
   "mimetype": "application/julia",
   "name": "julia",
   "version": "1.0.0"
  }
 },
 "nbformat": 4,
 "nbformat_minor": 2
}
