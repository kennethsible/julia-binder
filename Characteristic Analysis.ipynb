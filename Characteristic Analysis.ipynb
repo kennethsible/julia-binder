{
 "cells": [
  {
   "cell_type": "markdown",
   "metadata": {},
   "source": [
    "### Regge-Wheeler-Zerilli Evolution | Adaptive Characteristic Method\n",
    "**Author**: Ken Sible | **Date**: July 22, 2019"
   ]
  },
  {
   "cell_type": "markdown",
   "metadata": {},
   "source": [
    "<img src=\"images/adaptive_figure.png\" width=\"2236\" height=\"1258\" align=\"center\"/>"
   ]
  },
  {
   "cell_type": "markdown",
   "metadata": {},
   "source": [
    "**Adaptive Characteristic Method Algorithm**\n",
    "\n",
    "\\begin{align}\n",
    "    \\text{Lower Resolution: }&\\psi^{(LR)}\\,(n\\rightarrow n+1)\\\\\n",
    "    \\text{Higher Resolution, 1: }&\\psi^{(HR,1)}\\,(n\\rightarrow n+1/2)\\\\\n",
    "    \\text{Higher Resolution, 2: }&\\psi^{(HR,2)}\\,(n+1/2\\rightarrow n+1)\n",
    "\\end{align}\n",
    "~~~~\n",
    "# Define Constants, Functions, and Initial Conditions\n",
    "while u[n] < u_max\n",
    "    # Compute ψLR, ψHR[1], ψHR[2]\n",
    "    ε = maximum(abs.(ψHR[2] - ψLR))\n",
    "    if ε < tol\n",
    "        push(ψ, ψLR)\n",
    "        push(u, u[n] + du)\n",
    "        n += 1\n",
    "    end\n",
    "    du *= (tol/ε)^(1/2)\n",
    "end\n",
    "~~~~"
   ]
  },
  {
   "cell_type": "code",
   "execution_count": 1,
   "metadata": {},
   "outputs": [],
   "source": [
    "include(\"packages/NumericDE.jl\")\n",
    "using PyPlot, Main.NumericDE\n",
    "\n",
    "\"\"\" lambertw(z, [tol])\n",
    "\n",
    "    Solves z = w * exp(w) for w using the Newton-Raphson method\n",
    "    with the specified tolerance, assuming the principle branch.\n",
    "\"\"\"\n",
    "function lambertw(z::Number; tol::Real=1e-8)\n",
    "    z < -1/ℯ && throw(DomainError())\n",
    "    f(w) = w * exp(w) - z\n",
    "    df(w) = exp(w) * (w + 1)\n",
    "    w = z < 1 ? z : log(z)\n",
    "    f(w) == 0 && return w\n",
    "    begin i = 0\n",
    "        while abs(f(w)) > tol\n",
    "            w += -f(w)/df(w)\n",
    "            (i += 1) > 1000 && break\n",
    "        end\n",
    "    end\n",
    "    return w\n",
    "end;"
   ]
  },
  {
   "cell_type": "code",
   "execution_count": 2,
   "metadata": {},
   "outputs": [
    {
     "data": {
      "image/png": "[encoded data removed]",
      "text/plain": [
       "Figure(PyObject <Figure size 640x480 with 1 Axes>)"
      ]
     },
     "metadata": {},
     "output_type": "display_data"
    }
   ],
   "source": [
    "hx, ht, hu, hv = 0.2, 0.04, 0.4, 0.4\n",
    "x0, x = 200, collect(-250:hx:250)\n",
    "(ui, uf), (vi, vf) = (0, 300), (0, 300)\n",
    "\n",
    "ψIS, ψFS = Float64[], Float64[]\n",
    "function RK4_UV(t::Real, y::Array{<:Real}, f::Function, h::Real, args...)\n",
    "    p = [0, 1/2, 1/2, 1]\n",
    "    q = [0 0 0 0; 1/2 0 0 0; 0 1/2 0 0; 0 0 1 0]\n",
    "    a = [1/6, 1/3, 1/3, 1/6]\n",
    "    \n",
    "    k1 = f(t, y, args...)\n",
    "    k2 = f(t + p[2]*h, y + h*(q[2, 1]*k1), args...)\n",
    "    k3 = f(t + p[3]*h, y + h*(q[3, 1]*k1 + q[3, 2]*k2), args...)\n",
    "    k4 = f(t + p[4]*h, y + h*(q[4, 1]*k1 + q[4, 2]*k2 + q[4, 3]*k3), args...)\n",
    "    \n",
    "    y += h*(a[1]*k1 + a[2]*k2 + a[3]*k3 + a[4]*k4); t = round(t + h, digits=2)\n",
    "    \n",
    "    for j = 1:length(x)\n",
    "        u, v = t - x[j], t + x[j]\n",
    "\n",
    "        if (vi <= v <= vf) && u == ui\n",
    "            push!(ψIS, y[j, 1])\n",
    "        end\n",
    "        if (ui <= u <= uf) && v == vf\n",
    "            push!(ψFS, y[j, 1])\n",
    "        end\n",
    "    end\n",
    "    return y\n",
    "end\n",
    "\n",
    "l, r_s = 3, 2 # Angular Momentum, Schwarzschild Radius\n",
    "V(r) = (1 - r_s/r)*((l + 1)l/r^2 - 3r_s/r^3)\n",
    "r(x) = 2(lambertw(exp((x - 2)/2)) + 1)\n",
    "U = V.(r.(x)) # Vectorized Potential\n",
    "\n",
    "function f(t, ψ)\n",
    "    Nx = size(ψ)[1]\n",
    "    ψxx = zeros(Nx)\n",
    "    for j = 2:(Nx - 1)\n",
    "        ψxx[j] = (ψ[j + 1, 1] - 2ψ[j, 1] + ψ[j - 1, 1])/hx^2\n",
    "    end\n",
    "    return hcat(ψ[:, 2], ψxx .- U .* ψ[:, 1])\n",
    "end\n",
    "\n",
    "g(x) = 0.5(exp(-0.1(x - x0)^2))\n",
    "∂t_g(x) = 2*0.1(x0 - x) * g.(x)\n",
    "ψ0 = hcat(g.(x), ∂t_g.(x))\n",
    "\n",
    "pdeint(f, (0, 300), (-250, 250), ψ0, ht, hx, method=RK4_UV);\n",
    "plot(ui:hu:uf, ψFS[end:-1:1]);"
   ]
  },
  {
   "cell_type": "code",
   "execution_count": null,
   "metadata": {},
   "outputs": [],
   "source": [
    "function uv_wavefunc(uspan::NTuple{2, Real}, vspan::NTuple{2, Real},\n",
    "        du::Real, dv::Real, ψ0::Vector{<:Real})\n",
    "    (ui, uf), (vi, vf) = uspan, vspan\n",
    "    u, v = ui:du:uf, vi:dv:vf\n",
    "    Nu, Nv = length(u), length(v)\n",
    "    \n",
    "    l, r_s = 3, 2 # Angular Momentum, Schwarzschild Radius\n",
    "    V(r) = (1 - r_s/r)*((l + 1)l/r^2 - 3r_s/r^3)\n",
    "    r(x) = 2(lambertw(exp((x - 2)/2)) + 1)\n",
    "\n",
    "    ψ = zeros(Nv, Nu); ψ[:, 1] = ψ0\n",
    "    \n",
    "    for n = 1:(Nv - 1), k = 1:(Nu - 1)\n",
    "        x = ((v[n] - u[k + 1]) + (v[n + 1] - u[k]))/4\n",
    "        α = 1 - (du * dv)/8 * V(r(x)) # du/150\n",
    "        ψ[n + 1, k + 1] = α * (ψ[n + 1, k] + ψ[n, k + 1]) - ψ[n, k]\n",
    "    end\n",
    "\n",
    "    return ψ, u, v\n",
    "end\n",
    "\n",
    "function uv_adaptive(uspan::NTuple{2, Real}, vspan::NTuple{2, Real},\n",
    "        du::Real, dv::Real, ψ0::Function; tol=1e-6, dv_max=100)\n",
    "    (ui, uf), (vi, vf) = uspan, vspan\n",
    "    u = ui:du:uf; Nu = length(u)\n",
    "    \n",
    "    l, r_s = 3, 2 # Angular Momentum, Schwarzschild Radius\n",
    "    V(r) = (1 - r_s/r)*((l + 1)l/r^2 - 3r_s/r^3)\n",
    "    r(x) = 2(lambertw(exp((x - 2)/2)) + 1)\n",
    "\n",
    "    n, v = 1, Float64[vi]\n",
    "    ψ = zeros(1, Nu); ψ[1, 1] = ψ0(v[1])\n",
    "    ψLR, ψHR = zeros(Nu), zeros(2, Nu)\n",
    "\n",
    "    while v[n] < vf\n",
    "        ψLR[1] = ψHR[1, 1] = ψHR[2, 1] = ψ0(v[n])\n",
    "        for k = 1:(Nu - 1)\n",
    "            x = ((v[n] - u[k + 1]) + ((v[n] + dv) - u[k]))/4\n",
    "            α = 1 - (du * dv)/8 * V(r(x))\n",
    "            ψLR[k + 1] = α * (ψLR[k] + ψ[n, k + 1]) - ψ[n, k]\n",
    "\n",
    "            x = ((v[n] - u[k + 1]) + ((v[n] + dv/2) - u[k]))/4\n",
    "            α = 1 - (du * dv/2)/8 * V(r(x))\n",
    "            ψHR[1, k + 1] = α * (ψHR[1, k] + ψ[n, k + 1]) - ψ[n, k]\n",
    "\n",
    "            x = (((v[n] + dv/2) - u[k + 1]) + ((v[n] + dv) - u[k]))/4\n",
    "            α = 1 - (du * dv/2)/8 * V(r(x))\n",
    "            ψHR[2, k + 1] = α * (ψHR[2, k] + ψHR[1, k + 1]) - ψHR[1, k]\n",
    "        end\n",
    "        ϵ = maximum(abs.(ψHR[2, :] - ψLR))\n",
    "        if ϵ < tol\n",
    "            ψ = [ψ; ψLR']\n",
    "            push!(v, v[n] + dv)\n",
    "            n += 1\n",
    "        end\n",
    "        dv = (dv * (tol/ϵ)^(1/2)) > dv_max ?\n",
    "            dv_max : dv * (tol/ϵ)^(1/2)\n",
    "        if v[n] > vf\n",
    "            ψ = ψ[1:(end - 1), :]\n",
    "            v = v[1:(end - 1)]\n",
    "            dv, n = vf - v[end], n - 1\n",
    "        end\n",
    "    end\n",
    "\n",
    "    return ψ, u, v\n",
    "end;"
   ]
  },
  {
   "cell_type": "code",
   "execution_count": null,
   "metadata": {},
   "outputs": [],
   "source": [
    "hu_HR, hv_HR = _______ # High Resolution (Approximate 'Exact' Solution)\n",
    "(ui, uf), (vi, vf) = (0, x0 + _______), (0, x0 + _______)\n",
    "x0 = _______; ψIS = g.(vi:hv:vf) # Boundary Condition (Gaussian Approximation)\n",
    "ψUV_HR, u_HR, v_HR = uv_wavefunc((ui, uf), (vi, vf), hu_HR, hv_HR, ψIS)"
   ]
  },
  {
   "cell_type": "code",
   "execution_count": null,
   "metadata": {},
   "outputs": [],
   "source": [
    "ψ0 = hcat(g.(x), ∂t_g.(x))\n",
    "ψIS, ψFS = Float64[], Float64[]\n",
    "@time pdeint(f, (0, x0 + _______), (-(x0 + _______), x0 + _______), ψ0, ht, hx, method=RK4_UV)\n",
    "const error = norm(ψFS .- ψUV_HR)"
   ]
  },
  {
   "cell_type": "code",
   "execution_count": null,
   "metadata": {},
   "outputs": [],
   "source": [
    "@time ψUV, u, v = uv_adaptive((ui, uf), (vi, vf), hu, hv, g, tol=error)\n",
    "@assert error - _______ <= norm(ψUV .- ψUV_HR) <= error + _______"
   ]
  },
  {
   "cell_type": "code",
   "execution_count": null,
   "metadata": {},
   "outputs": [],
   "source": [
    "# Plot Computational Time vs Final Characteristic Distance\n",
    "# Move Final Characteritic Further and Repeat Process"
   ]
  },
  {
   "cell_type": "code",
   "execution_count": null,
   "metadata": {},
   "outputs": [],
   "source": [
    "using Hilbert\n",
    "\n",
    "row_vector(x::Vector) = reshape(x, 1, length(x))\n",
    "(ui, uf), (vi, vf) = (0, _______), (0, _______)\n",
    "ψIS = g.(vi:hv:vf)\n",
    "ψUV, u, v = uv_adaptive((ui, uf), (vi, vf), hu, hv, ψIS)\n",
    "\n",
    "ψ = row_vector(ψUV[_______, :])\n",
    "plot(u, abs.(hilbert(ψ))'); # TODO: Log Plot?\n",
    "plot(u, -abs.(hilbert(ψ))'); plot(u, ψ');"
   ]
  }
 ],
 "metadata": {
  "@webio": {
   "lastCommId": null,
   "lastKernelId": null
  },
  "kernelspec": {
   "display_name": "Julia 1.0.3",
   "language": "julia",
   "name": "julia-1.0"
  },
  "language_info": {
   "file_extension": ".jl",
   "mimetype": "application/julia",
   "name": "julia",
   "version": "1.0.3"
  }
 },
 "nbformat": 4,
 "nbformat_minor": 2
}
