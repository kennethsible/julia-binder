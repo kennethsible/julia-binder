{
 "cells": [
  {
   "cell_type": "markdown",
   "metadata": {},
   "source": [
    "### Regge-Wheeler-Zerilli Evolution | Adaptive Characteristic Method\n",
    "**Author**: Ken Sible | **Date**: September 2, 2019"
   ]
  },
  {
   "cell_type": "markdown",
   "metadata": {},
   "source": [
    "<img src=\"images/adaptive_figure.png\" width=\"2236\" height=\"1258\" align=\"center\"/>"
   ]
  },
  {
   "cell_type": "markdown",
   "metadata": {},
   "source": [
    "**Adaptive Characteristic Method Algorithm**\n",
    "\n",
    "\\begin{align}\n",
    "    \\text{Lower Resolution: }&\\psi^{(LR)}\\,(n\\rightarrow n+1)\\\\\n",
    "    \\text{Higher Resolution, 1: }&\\psi^{(HR,1)}\\,(n\\rightarrow n+1/2)\\\\\n",
    "    \\text{Higher Resolution, 2: }&\\psi^{(HR,2)}\\,(n+1/2\\rightarrow n+1)\n",
    "\\end{align}\n",
    "~~~~\n",
    "# Define Constants, Functions, and Initial Conditions\n",
    "while u[n] < u_max\n",
    "    # Compute ψLR, ψHR[1], ψHR[2]\n",
    "    ε = maximum(abs.(ψHR[2] - ψLR))\n",
    "    if ε < tol\n",
    "        push(ψ, ψLR)\n",
    "        push(u, u[n] + du)\n",
    "        n += 1\n",
    "    end\n",
    "    du *= (tol/ε)^(1/2)\n",
    "end\n",
    "~~~~"
   ]
  },
  {
   "cell_type": "code",
   "execution_count": 1,
   "metadata": {},
   "outputs": [],
   "source": [
    "include(\"packages/NumericDE.jl\")\n",
    "using PyPlot, Main.NumericDE\n",
    "\n",
    "\"\"\" lambertw(z, [tol])\n",
    "\n",
    "    Solves z = w * exp(w) for w using the Newton-Raphson method\n",
    "    with the specified tolerance, assuming the principle branch.\n",
    "\"\"\"\n",
    "function lambertw(z::Number; tol::Real=1e-8)\n",
    "    z < -1/ℯ && throw(DomainError())\n",
    "    f(w) = w * exp(w) - z\n",
    "    df(w) = exp(w) * (w + 1)\n",
    "    w = z < 1 ? z : log(z)\n",
    "    f(w) == 0 && return w\n",
    "    begin i = 0\n",
    "        while abs(f(w)) > tol\n",
    "            w += -f(w)/df(w)\n",
    "            (i += 1) > 1000 && break\n",
    "        end\n",
    "    end\n",
    "    return w\n",
    "end;"
   ]
  },
  {
   "cell_type": "code",
   "execution_count": 2,
   "metadata": {},
   "outputs": [
    {
     "data": {
      "text/plain": [
       "2501×2 Array{Float64,2}:\n",
       " 0.0            0.0         \n",
       " 0.0            0.0         \n",
       " 0.0            0.0         \n",
       " 0.0            0.0         \n",
       " 0.0            0.0         \n",
       " 0.0            0.0         \n",
       " 0.0            0.0         \n",
       " 0.0            0.0         \n",
       " 0.0            0.0         \n",
       " 0.0            0.0         \n",
       " 0.0            0.0         \n",
       " 0.0            0.0         \n",
       " 0.0            0.0         \n",
       " ⋮                          \n",
       " 2.94869e-100  -2.81895e-99 \n",
       " 4.34032e-101  -4.1667e-100 \n",
       " 6.3378e-102   -6.10964e-101\n",
       " 9.18083e-103  -8.88704e-102\n",
       " 1.31932e-103  -1.28238e-102\n",
       " 1.88081e-104  -1.83567e-103\n",
       " 2.6599e-105   -2.6067e-104 \n",
       " 3.73173e-106  -3.67203e-105\n",
       " 5.19376e-107  -5.13143e-106\n",
       " 7.17098e-108  -7.11362e-107\n",
       " 9.82203e-109  -9.78274e-108\n",
       " 1.3346e-109   -1.3346e-108 "
      ]
     },
     "execution_count": 2,
     "metadata": {},
     "output_type": "execute_result"
    }
   ],
   "source": [
    "hx, ht, hu, hv = 0.2, 0.04, 0.4, 0.4\n",
    "x0, x = 200, collect(-250:hx:250)\n",
    "(ui, uf), (vi, vf) = (0, 300), (0, 300)\n",
    "\n",
    "ψIS, ψFS = Float64[], Float64[]\n",
    "function RK4_UV(t::Real, y::Array{<:Real}, f::Function, h::Real, args...)\n",
    "    p = [0, 1/2, 1/2, 1]\n",
    "    q = [0 0 0 0; 1/2 0 0 0; 0 1/2 0 0; 0 0 1 0]\n",
    "    a = [1/6, 1/3, 1/3, 1/6]\n",
    "    \n",
    "    k1 = f(t, y, args...)\n",
    "    k2 = f(t + p[2]*h, y + h*(q[2, 1]*k1), args...)\n",
    "    k3 = f(t + p[3]*h, y + h*(q[3, 1]*k1 + q[3, 2]*k2), args...)\n",
    "    k4 = f(t + p[4]*h, y + h*(q[4, 1]*k1 + q[4, 2]*k2 + q[4, 3]*k3), args...)\n",
    "    \n",
    "    y += h*(a[1]*k1 + a[2]*k2 + a[3]*k3 + a[4]*k4); t = round(t + h, digits=2)\n",
    "    \n",
    "    for j = 1:length(x)\n",
    "        u, v = t - x[j], t + x[j]\n",
    "\n",
    "        if (vi <= v <= vf) && u == ui\n",
    "            push!(ψIS, y[j, 1])\n",
    "        end\n",
    "        if (ui <= u <= uf) && v == vf\n",
    "            push!(ψFS, y[j, 1])\n",
    "        end\n",
    "    end\n",
    "    return y\n",
    "end\n",
    "\n",
    "l, r_s = 3, 2 # Angular Momentum, Schwarzschild Radius\n",
    "V(r) = (1 - r_s/r)*((l + 1)l/r^2 - 3r_s/r^3)\n",
    "r(x) = 2(lambertw(exp((x - 2)/2)) + 1)\n",
    "U = V.(r.(x)) # Vectorized Potential\n",
    "\n",
    "function f(t, ψ)\n",
    "    Nx = size(ψ)[1]\n",
    "    ψxx = zeros(Nx)\n",
    "    for j = 2:(Nx - 1)\n",
    "        ψxx[j] = (ψ[j + 1, 1] - 2ψ[j, 1] + ψ[j - 1, 1])/hx^2\n",
    "    end\n",
    "    return hcat(ψ[:, 2], ψxx .- U .* ψ[:, 1])\n",
    "end\n",
    "\n",
    "g(x) = 0.5(exp(-0.1(x - x0)^2))\n",
    "∂t_g(x) = 2*0.1(x0 - x) * g.(x)\n",
    "ψ0 = hcat(g.(x), ∂t_g.(x))\n",
    "\n",
    "# pdeint(f, (0, 300), (-250, 250), ψ0, ht, hx, method=RK4_UV)"
   ]
  },
  {
   "cell_type": "code",
   "execution_count": 3,
   "metadata": {},
   "outputs": [],
   "source": [
    "function uv_uniform(uspan::NTuple{2, Real}, vspan::NTuple{2, Real},\n",
    "        hu::Real, hv::Real, ψ0::Union{Function, Vector{<:Real}})\n",
    "    (ui, uf), (vi, vf) = uspan, vspan\n",
    "    u, v = ui:hu:uf, vi:hv:vf\n",
    "    Nu, Nv = length(u), length(v)\n",
    "\n",
    "    l, r_s = 3, 2 # Angular Momentum, Schwarzschild Radius\n",
    "    V(r) = (1 - r_s/r)*((l + 1)l/r^2 - 3r_s/r^3)\n",
    "    r(x) = 2(lambertw(exp((x - 2)/2)) + 1)\n",
    "\n",
    "    ψ = zeros(2, Nu)\n",
    "    ψ[1, :] = ψ0 isa Function ? ψ0.(u) : ψ0\n",
    "\n",
    "    for n = 1:(Nv - 1)\n",
    "        for k = 1:(Nu - 1)\n",
    "            x = ((v[n] - u[k + 1]) + (v[n + 1] - u[k]))/4\n",
    "            α = 1 - (hu * hv)/8 * V(r(x))\n",
    "            ψ[2, k + 1] = α * (ψ[2, k] + ψ[1, k + 1]) - ψ[1, k]\n",
    "        end\n",
    "        ψ[1, :] = ψ[2, :]\n",
    "        ψ[2, :] = zeros(Nu)\n",
    "    end\n",
    "\n",
    "    return ψ[1, :], u, v\n",
    "end;"
   ]
  },
  {
   "cell_type": "code",
   "execution_count": 4,
   "metadata": {},
   "outputs": [],
   "source": [
    "function uv_adaptive(uspan::NTuple{2, Real}, vspan::NTuple{2, Real},\n",
    "        hu::Real, hv::Real, ψ0::Function; tol=1e-6, hv_max=100)\n",
    "    (ui, uf), (vi, vf) = uspan, vspan\n",
    "    u = ui:hu:uf; Nu = length(u)\n",
    "\n",
    "    l, r_s = 3, 2 # Angular Momentum, Schwarzschild Radius\n",
    "    V(r) = (1 - r_s/r)*((l + 1)l/r^2 - 3r_s/r^3)\n",
    "    r(x) = 2(lambertw(exp((x - 2)/2)) + 1)\n",
    "\n",
    "    n, v = 1, Float64[vi]\n",
    "    ψ = zeros(1, Nu); ψ[1, 1] = ψ0(v[1])\n",
    "    ψLR, ψHR = zeros(Nu), zeros(2, Nu)\n",
    "\n",
    "    while v[n] < vf\n",
    "        ψLR[1] = ψHR[1, 1] = ψHR[2, 1] = ψ0(v[n])\n",
    "        for k = 1:(Nu - 1)\n",
    "            x = ((v[n] - u[k + 1]) + ((v[n] + hv) - u[k]))/4\n",
    "            α = 1 - (hu * hv)/8 * V(r(x))\n",
    "            ψLR[k + 1] = α * (ψLR[k] + ψ[n, k + 1]) - ψ[n, k]\n",
    "\n",
    "            x = ((v[n] - u[k + 1]) + ((v[n] + hv/2) - u[k]))/4\n",
    "            α = 1 - (hu * hv/2)/8 * V(r(x))\n",
    "            ψHR[1, k + 1] = α * (ψHR[1, k] + ψ[n, k + 1]) - ψ[n, k]\n",
    "\n",
    "            x = (((v[n] + hv/2) - u[k + 1]) + ((v[n] + hv) - u[k]))/4\n",
    "            α = 1 - (hu * hv/2)/8 * V(r(x))\n",
    "            ψHR[2, k + 1] = α * (ψHR[2, k] + ψHR[1, k + 1]) - ψHR[1, k]\n",
    "        end\n",
    "        # ϵ = norm(ψHR[2, :] - ψLR) # HIGH COMPUTATIONAL COST\n",
    "        ϵ = maximum(abs.(ψHR[2, :] - ψLR))\n",
    "        if ϵ < tol\n",
    "            ψ = [ψ; ψLR']\n",
    "            push!(v, v[n] + hv)\n",
    "            n += 1\n",
    "        end\n",
    "        hv = (hv * (tol/ϵ)^(1/2)) > hv_max ?\n",
    "            hv_max : hv * (tol/ϵ)^(1/2)\n",
    "        if v[n] > vf\n",
    "            ψ = ψ[1:(end - 1), :]\n",
    "            v = v[1:(end - 1)]\n",
    "            hv, n = vf - v[end], n - 1\n",
    "        end\n",
    "    end\n",
    "\n",
    "    return ψ, u, v\n",
    "end;"
   ]
  },
  {
   "cell_type": "code",
   "execution_count": 5,
   "metadata": {},
   "outputs": [
    {
     "data": {
      "image/png": "[encoded data removed]",
      "text/plain": [
       "Figure(PyObject <Figure size 640x480 with 3 Axes>)"
      ]
     },
     "metadata": {},
     "output_type": "display_data"
    }
   ],
   "source": [
    "ψUV_WF, u, v = uv_uniform((0, 300), (0, 300), 0.4, 0.4, g)\n",
    "time = @elapsed ψUV, u, v = uv_adaptive((0, 300), (0, 300), 0.4, 100, g, tol=1e-4)\n",
    "hv = [v[n + 1] - v[n] for n = 1:(length(v) - 1)]\n",
    "fig, axs = plt.subplots(3)\n",
    "axs[1].plot(u, ψUV[end, end:-1:1])\n",
    "axs[2].plot(v[1:(end - 1)], hv, \"x\")\n",
    "axs[3].plot(v[3:(end - 1)], hv[3:end], \"x\")\n",
    "axs[1].set(xlabel=L\"u\", ylabel=L\"\\psi(u,v)\")\n",
    "axs[2].set(xlabel=L\"v\", ylabel=L\"h_v\")\n",
    "axs[3].set(xlabel=L\"v\", ylabel=L\"h_v\")\n",
    "fig.suptitle(\"Computational Time: $(round(time))s\");"
   ]
  },
  {
   "cell_type": "code",
   "execution_count": 6,
   "metadata": {},
   "outputs": [],
   "source": [
    "# Plot Computational Time vs Final Characteristic Distance\n",
    "# Move Final Characteritic Further and Repeat Process"
   ]
  },
  {
   "cell_type": "code",
   "execution_count": 7,
   "metadata": {},
   "outputs": [],
   "source": [
    "function polyfit(x::T, y::T; inverse=false) where T <: Vector{Float64}\n",
    "    @assert length(x) == length(y)\n",
    "    N = length(x); M = zeros(N, N)\n",
    "    s = inverse ? -1 : 1\n",
    "    for i = 1:N, j = 1:N\n",
    "        M[i, j] = x[i]^((j - 1)s)\n",
    "    end\n",
    "    (c = M\\y) |> println\n",
    "    f(x::Float64) = begin\n",
    "        y = 0\n",
    "        for i = 1:N\n",
    "            y += c[i]*x^((i - 1)s)\n",
    "        end\n",
    "        return y\n",
    "    end\n",
    "end;"
   ]
  },
  {
   "cell_type": "code",
   "execution_count": 8,
   "metadata": {},
   "outputs": [
    {
     "data": {
      "image/png": "[encoded data removed]",
      "text/plain": [
       "Figure(PyObject <Figure size 640x480 with 1 Axes>)"
      ]
     },
     "metadata": {},
     "output_type": "display_data"
    },
    {
     "name": "stdout",
     "output_type": "stream",
     "text": [
      "[19.000000000000043, -98.00000000000053, 80.00000000000048]\n"
     ]
    }
   ],
   "source": [
    "x, y = [1.0, 8.0, 10.0], [1.0, 8.0, 10.0]\n",
    "plot(x, y, \"o\"); h = polyfit(x, y, inverse=true)\n",
    "x = 0.5:0.01:10; plot(x, h.(x));"
   ]
  },
  {
   "cell_type": "code",
   "execution_count": null,
   "metadata": {},
   "outputs": [],
   "source": [
    "hv_HR, t_1, t_2, L = 1e-2, [], [], collect(500:100:1000)\n",
    "for n = 1:length(L)\n",
    "    ψHR, u, v = uv_uniform((0, 300), (0, L[n]), 0.4, hv_HR, g)\n",
    "    ψIS, ψFS = Float64[], Float64[]\n",
    "\n",
    "    push!(t_1, @elapsed pdeint(f, (0, L_i), (-L_i, L_i), ψ0, ht, hx, method=RK4_UV))\n",
    "    e_1 = norm(ψFS - ψHR); σ, e_2 = 1, Inf\n",
    "    while e_2 > e_1\n",
    "        push!(t_2, @elapsed ψUV, u, v = uv_adaptive((0, 300), (0, 300), 0.4, 100, g, tol=0.1σ))\n",
    "        e_2 = norm(ψUV[end, :] - ψHR); σ /= 2\n",
    "    end\n",
    "end\n",
    "plot(L, t_1, \"x\", label=\"Method of Lines\"); plot(L, t_2, \"o\", label=\"Adaptive Characteristic\")\n",
    "plt.xlable(\"Characteristic Distance\"); plt.ylabel(\"Computational Time\")\n",
    "plt.title(\"Algorithm Comparison (Constant Error)\"); plt.legend();"
   ]
  }
 ],
 "metadata": {
  "@webio": {
   "lastCommId": null,
   "lastKernelId": null
  },
  "kernelspec": {
   "display_name": "Julia 1.2.0",
   "language": "julia",
   "name": "julia-1.2"
  },
  "language_info": {
   "file_extension": ".jl",
   "mimetype": "application/julia",
   "name": "julia",
   "version": "1.2.0"
  }
 },
 "nbformat": 4,
 "nbformat_minor": 2
}
