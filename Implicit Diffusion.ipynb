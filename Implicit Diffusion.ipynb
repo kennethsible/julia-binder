{
 "cells": [
  {
   "cell_type": "markdown",
   "metadata": {},
   "source": [
    "### Implicit BTCS Scheme for Diffusion Equation\n",
    "**Problem**: Solve the diffusion equation $u_t=\\alpha^2 u_{xx}$ $(0\\leq x\\leq L$, $0\\leq t)$ with $\\alpha=1$, using an implicit BTCS scheme. The inital condition and boundary conditions are given as $u(x,0)=exp{(-(x-x_0)^2/\\sigma^2)}$ and $u(0,t)=u(L,t)=0$.\n",
    "\n",
    "\\begin{align}\n",
    "\\frac{u^{n+1}_k-u^n_k}{\\Delta t}&=\\frac{u^{n+1}_{k+1}-2u^{n+1}_k+u^{n+1}_{k-1}}{\\Delta x^2}\\\\\n",
    "u^{n+1}_k-u^n_k&=r\\left[u^{n+1}_{k+1}-2u^{n+1}_k+u^{n+1}_{k-1}\\right]\\\\\n",
    "\\end{align}\n",
    "The finite difference equation requires that the $u^{(n+1)}$ terms are solved simultaneously through the linear system of $k$ equations.\n",
    "<center></center>\n",
    "\\[\n",
    "\\begin{bmatrix}\n",
    "    a_1 & b_1 & 0 & 0 & 0 & 0 \\\\\n",
    "    c_2 & a_2 & b_2 & 0 & 0 & 0 \\\\\n",
    "    0 & c_3 & a_3 & b_3 & 0 & 0 \\\\\n",
    "    0 & 0 & \\ddots & \\ddots & \\ddots & 0 \\\\\n",
    "    0 & 0 & 0 & 0 & c_k & a_k\n",
    "\\end{bmatrix}\n",
    "\\begin{bmatrix}\n",
    "    u^{n+1}_1 \\\\\n",
    "    u^{n+1}_2 \\\\\n",
    "    u^{n+1}_3 \\\\\n",
    "    \\vdots \\\\\n",
    "    u^{n+1}_k\n",
    "\\end{bmatrix}\n",
    "=\n",
    "\\begin{bmatrix}\n",
    "    u^{n}_1 \\\\\n",
    "    u^{n}_2 \\\\\n",
    "    u^{n}_3 \\\\\n",
    "    \\vdots \\\\\n",
    "    u^{n}_k\n",
    "\\end{bmatrix}\n",
    "\\]\n",
    "The constants are $a_k\\equiv1+2r$, $b_k=c_k\\equiv-r$, and the boundary conditions require that $a_1=1$, $b_1=0$, $u^n_1=u(0,t)$ and $a_k=1$, $c_k=0$, $u^n_k=u(L,t)$.\n",
    "\\[\n",
    "\\begin{bmatrix}\n",
    "    1 & 0 & 0 & 0 & 0 & 0 \\\\\n",
    "    c_2 & a_2 & b_2 & 0 & 0 & 0 \\\\\n",
    "    0 & c_3 & a_3 & b_3 & 0 & 0 \\\\\n",
    "    0 & 0 & \\ddots & \\ddots & \\ddots & 0 \\\\\n",
    "    0 & 0 & 0 & 0 & 0 & 1\n",
    "\\end{bmatrix}\n",
    "\\begin{bmatrix}\n",
    "    u^{n+1}_1 \\\\\n",
    "    u^{n+1}_2 \\\\\n",
    "    u^{n+1}_3 \\\\\n",
    "    \\vdots \\\\\n",
    "    u^{n+1}_k\n",
    "\\end{bmatrix}\n",
    "=\n",
    "\\begin{bmatrix}\n",
    "    u(0,t_1) \\\\\n",
    "    u^{n}_2 \\\\\n",
    "    \\vdots \\\\\n",
    "    u^{n}_{k-1} \\\\\n",
    "    u(L,t_n)\n",
    "\\end{bmatrix}\n",
    "\\]\n",
    "The tridiagonal matrix equation $Au^{(n+1)}=u^{(n)}$ has efficient methods for obtaining the solution through tridiagonal matrix algorithms."
   ]
  },
  {
   "cell_type": "code",
   "execution_count": 35,
   "metadata": {},
   "outputs": [],
   "source": [
    "using LinearAlgebra\n",
    "using PyPlot"
   ]
  },
  {
   "cell_type": "code",
   "execution_count": 36,
   "metadata": {},
   "outputs": [
    {
     "name": "stdout",
     "output_type": "stream",
     "text": [
      " 82.963088 seconds (3.13 M allocations: 7.570 GiB, 0.95% gc time)\n"
     ]
    }
   ],
   "source": [
    "@time begin\n",
    "    T, L = 100, 100\n",
    "    dt, dx = 0.1, 0.1\n",
    "    Nt, Nx = Int(T/dt + 1), Int(L/dx + 1)\n",
    "    r = dt/dx^2\n",
    "\n",
    "    f(x) = exp(-(x - 50)^2/150)\n",
    "    x = range(0, stop=L, step=dx)\n",
    "    u = zeros(Nt, Nx)\n",
    "    u[1, :] = f.(x)\n",
    "    A = zeros(Nx, Nx)\n",
    "    for n = 1:Nt, k = 1:Nx\n",
    "        if n == k\n",
    "            A[n, k] = 1 + 2r\n",
    "        elseif n == k - 1 || n == k + 1\n",
    "            A[n, k] = -r\n",
    "        end\n",
    "    end\n",
    "\n",
    "    for n = 1:(Nt - 1)\n",
    "        u[n + 1, :] = A\\u[n, :]\n",
    "    end\n",
    "end;"
   ]
  },
  {
   "cell_type": "code",
   "execution_count": 38,
   "metadata": {},
   "outputs": [
    {
     "data": {
      "image/png": "[encoded data removed]",
      "text/plain": [
       "Figure(PyObject <Figure size 640x480 with 1 Axes>)"
      ]
     },
     "metadata": {},
     "output_type": "display_data"
    }
   ],
   "source": [
    "plot(x, u[1, :])\n",
    "plot(x, u[end, :]);"
   ]
  },
  {
   "cell_type": "code",
   "execution_count": 39,
   "metadata": {},
   "outputs": [
    {
     "name": "stdout",
     "output_type": "stream",
     "text": [
      "  1.838388 seconds (4.15 M allocations: 186.218 MiB, 7.29% gc time)\n"
     ]
    }
   ],
   "source": [
    "@time begin\n",
    "    T, L = 100, 100\n",
    "    dt, dx = 0.1, 0.1\n",
    "    Nt, Nx = Int(T/dt + 1), Int(L/dx + 1)\n",
    "    r = dt/dx^2\n",
    "\n",
    "    f(x) = exp(-(x - 50)^2/150)\n",
    "    x = range(0, stop=L, step=dx)\n",
    "    u = zeros(Nt, Nx)\n",
    "    u[1, :] = f.(x)\n",
    "    A = zeros(Nx, Nx)\n",
    "    for n = 1:Nt, k = 1:Nx\n",
    "        if n == k\n",
    "            A[n, k] = 1 + 2r\n",
    "        elseif n == k - 1 || n == k + 1\n",
    "            A[n, k] = -r\n",
    "        end\n",
    "    end\n",
    "    A = Tridiagonal(A)\n",
    "\n",
    "    for n = 1:(Nt - 1)\n",
    "        u[n + 1, :] = A\\u[n, :]\n",
    "    end\n",
    "end;"
   ]
  },
  {
   "cell_type": "code",
   "execution_count": 42,
   "metadata": {},
   "outputs": [
    {
     "name": "stdout",
     "output_type": "stream",
     "text": [
      "  0.194068 seconds (165.42 k allocations: 77.088 MiB, 50.92% gc time)\n"
     ]
    }
   ],
   "source": [
    "@time begin\n",
    "    T, L = 100, 100\n",
    "    dt, dx = 0.1, 0.1\n",
    "    Nt, Nx = Int(T/dt + 1), Int(L/dx + 1)\n",
    "    r = dt/dx^2\n",
    "\n",
    "    f(x) = exp(-(x - 50)^2/150)\n",
    "    x = range(0, stop=L, step=dx)\n",
    "    u = zeros(Nt, Nx)\n",
    "    u[1, :] = f.(x)\n",
    "    A = zeros(Nx, Nx)\n",
    "    dl = du = -r*ones(Nx - 1)\n",
    "    d = (1 + 2r)*ones(Nx)\n",
    "    A = Tridiagonal(dl, d, du)\n",
    "\n",
    "    for n = 1:(Nt - 1)\n",
    "        u[n + 1, :] = A\\u[n, :]\n",
    "    end\n",
    "end;"
   ]
  }
 ],
 "metadata": {
  "kernelspec": {
   "display_name": "Julia 1.0.0",
   "language": "julia",
   "name": "julia-1.0"
  },
  "language_info": {
   "file_extension": ".jl",
   "mimetype": "application/julia",
   "name": "julia",
   "version": "1.0.0"
  }
 },
 "nbformat": 4,
 "nbformat_minor": 2
}
